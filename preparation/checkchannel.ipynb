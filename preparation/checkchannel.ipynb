{
 "cells": [
  {
   "cell_type": "code",
   "execution_count": 3,
   "id": "f15d7c01",
   "metadata": {},
   "outputs": [
    {
     "name": "stdout",
     "output_type": "stream",
     "text": [
      "✅ 多通道图像\n",
      "尺寸: 640 x 640\n",
      "通道数: 3\n",
      "数据类型: uint8\n"
     ]
    }
   ],
   "source": [
    "import cv2\n",
    "\n",
    "# 替换成你自己的图片路径\n",
    "image_path = \"/Users/diona/Desktop/dataset/tiles/tile_3200_6400_RedEdge.tif\"\n",
    "\n",
    "# 读取图像（不做任何自动通道处理）\n",
    "img = cv2.imread(image_path, cv2.IMREAD_UNCHANGED)\n",
    "\n",
    "if img is None:\n",
    "    print(\"❌ 读取失败，请检查路径或文件是否损坏。\")\n",
    "else:\n",
    "    if img.ndim == 2:\n",
    "        print(\"✅ 单通道图像\")\n",
    "        print(f\"尺寸: {img.shape[1]} x {img.shape[0]}\")\n",
    "        print(f\"数据类型: {img.dtype}\")\n",
    "    elif img.ndim == 3:\n",
    "        print(\"✅ 多通道图像\")\n",
    "        print(f\"尺寸: {img.shape[1]} x {img.shape[0]}\")\n",
    "        print(f\"通道数: {img.shape[2]}\")\n",
    "        print(f\"数据类型: {img.dtype}\")\n",
    "    else:\n",
    "        print(\"⚠️ 图像维度异常\")\n"
   ]
  }
 ],
 "metadata": {
  "kernelspec": {
   "display_name": "yolo",
   "language": "python",
   "name": "python3"
  },
  "language_info": {
   "codemirror_mode": {
    "name": "ipython",
    "version": 3
   },
   "file_extension": ".py",
   "mimetype": "text/x-python",
   "name": "python",
   "nbconvert_exporter": "python",
   "pygments_lexer": "ipython3",
   "version": "3.10.13"
  }
 },
 "nbformat": 4,
 "nbformat_minor": 5
}
